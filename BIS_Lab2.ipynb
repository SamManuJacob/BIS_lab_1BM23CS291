{
  "nbformat": 4,
  "nbformat_minor": 0,
  "metadata": {
    "colab": {
      "provenance": [],
      "authorship_tag": "ABX9TyNsk/J73i/+ygYLhxLBlbEk",
      "include_colab_link": true
    },
    "kernelspec": {
      "name": "python3",
      "display_name": "Python 3"
    },
    "language_info": {
      "name": "python"
    }
  },
  "cells": [
    {
      "cell_type": "markdown",
      "metadata": {
        "id": "view-in-github",
        "colab_type": "text"
      },
      "source": [
        "<a href=\"https://colab.research.google.com/github/SamManuJacob/BIS_lab_1BM23CS291/blob/main/BIS_Lab2.ipynb\" target=\"_parent\"><img src=\"https://colab.research.google.com/assets/colab-badge.svg\" alt=\"Open In Colab\"/></a>"
      ]
    },
    {
      "cell_type": "code",
      "execution_count": 2,
      "metadata": {
        "colab": {
          "base_uri": "https://localhost:8080/"
        },
        "id": "gUj_obJSPj34",
        "outputId": "0b1fa675-45bd-4be4-a0b1-ec9a1c08717f"
      },
      "outputs": [
        {
          "output_type": "stream",
          "name": "stdout",
          "text": [
            "Iteration 01/50 → Best Score: 1.801776 at [1.2397566706997787, 0.5145675264304463]\n",
            "Iteration 02/50 → Best Score: 0.966987 at [0.31547642411905974, -0.9313760611031302]\n",
            "Iteration 03/50 → Best Score: 0.876223 at [0.5673939441861969, -0.7445048612666829]\n",
            "Iteration 04/50 → Best Score: 0.077064 at [0.27658369947268113, -0.02378093903369327]\n",
            "Iteration 05/50 → Best Score: 0.072882 at [0.1893406260586264, 0.19243623763620363]\n",
            "Iteration 06/50 → Best Score: 0.053129 at [0.16488926226074097, 0.1610612793402999]\n",
            "Iteration 07/50 → Best Score: 0.006559 at [0.06981904201136642, 0.04104234949463255]\n",
            "Iteration 08/50 → Best Score: 0.001731 at [0.04129797593655406, 0.0050366705409323476]\n",
            "Iteration 09/50 → Best Score: 0.001105 at [0.03274165611411035, -0.005765033145177713]\n",
            "Iteration 10/50 → Best Score: 0.000992 at [0.030174760167377235, -0.00900554425101073]\n",
            "Iteration 11/50 → Best Score: 0.000416 at [0.004526749862705598, -0.0198813509067736]\n",
            "Iteration 12/50 → Best Score: 0.000416 at [0.004526749862705598, -0.0198813509067736]\n",
            "Iteration 13/50 → Best Score: 0.000416 at [0.004526749862705598, -0.0198813509067736]\n",
            "Iteration 14/50 → Best Score: 0.000077 at [0.007491437631605728, -0.00452069003509107]\n",
            "Iteration 15/50 → Best Score: 0.000002 at [0.001230841727684527, -7.484062848605796e-05]\n",
            "Iteration 16/50 → Best Score: 0.000002 at [0.001230841727684527, -7.484062848605796e-05]\n",
            "Iteration 17/50 → Best Score: 0.000002 at [0.001230841727684527, -7.484062848605796e-05]\n",
            "Iteration 18/50 → Best Score: 0.000002 at [0.001230841727684527, -7.484062848605796e-05]\n",
            "Iteration 19/50 → Best Score: 0.000002 at [0.001230841727684527, -7.484062848605796e-05]\n",
            "Iteration 20/50 → Best Score: 0.000001 at [0.0008782834050459821, 8.18662555331761e-05]\n",
            "Iteration 21/50 → Best Score: 0.000001 at [0.0008782834050459821, 8.18662555331761e-05]\n",
            "Iteration 22/50 → Best Score: 0.000001 at [-0.00016745646980927576, 0.0007237694254918386]\n",
            "Iteration 23/50 → Best Score: 0.000001 at [-0.00016745646980927576, 0.0007237694254918386]\n",
            "Iteration 24/50 → Best Score: 0.000000 at [0.0006336376469676407, 7.948695617390007e-05]\n",
            "Iteration 25/50 → Best Score: 0.000000 at [-9.910599274939999e-05, -0.00014888335925763389]\n",
            "Iteration 26/50 → Best Score: 0.000000 at [-9.910599274939999e-05, -0.00014888335925763389]\n",
            "Iteration 27/50 → Best Score: 0.000000 at [8.172834157262098e-05, -5.909280999086199e-05]\n",
            "Iteration 28/50 → Best Score: 0.000000 at [8.06029923738685e-05, 7.355858628138221e-06]\n",
            "Iteration 29/50 → Best Score: 0.000000 at [-1.3891551429559532e-05, -2.2374194086107997e-05]\n",
            "Iteration 30/50 → Best Score: 0.000000 at [-1.6105257396550667e-05, 3.3441670406072277e-06]\n",
            "Iteration 31/50 → Best Score: 0.000000 at [-1.6105257396550667e-05, 3.3441670406072277e-06]\n",
            "Iteration 32/50 → Best Score: 0.000000 at [-1.5425381600409114e-05, -4.554484138549789e-06]\n",
            "Iteration 33/50 → Best Score: 0.000000 at [-1.5425381600409114e-05, -4.554484138549789e-06]\n",
            "Iteration 34/50 → Best Score: 0.000000 at [-1.3843172676287409e-05, -1.8768725994729476e-06]\n",
            "Iteration 35/50 → Best Score: 0.000000 at [-1.3843172676287409e-05, -1.8768725994729476e-06]\n",
            "Iteration 36/50 → Best Score: 0.000000 at [-6.2607984722873574e-06, 3.7545596952726756e-06]\n",
            "Iteration 37/50 → Best Score: 0.000000 at [-3.6446536881142475e-06, 5.5858613364417595e-06]\n",
            "Iteration 38/50 → Best Score: 0.000000 at [-3.6446536881142475e-06, 5.5858613364417595e-06]\n",
            "Iteration 39/50 → Best Score: 0.000000 at [-3.6446536881142475e-06, 5.5858613364417595e-06]\n",
            "Iteration 40/50 → Best Score: 0.000000 at [-3.6446536881142475e-06, 5.5858613364417595e-06]\n",
            "Iteration 41/50 → Best Score: 0.000000 at [-3.6446536881142475e-06, 5.5858613364417595e-06]\n",
            "Iteration 42/50 → Best Score: 0.000000 at [3.886389046834898e-06, 4.600969148266572e-06]\n",
            "Iteration 43/50 → Best Score: 0.000000 at [1.4827571179210092e-06, -9.868683414838482e-08]\n",
            "Iteration 44/50 → Best Score: 0.000000 at [8.300445601418335e-07, 1.1126592879975534e-06]\n",
            "Iteration 45/50 → Best Score: 0.000000 at [1.3183519059129335e-06, 2.413394344476739e-07]\n",
            "Iteration 46/50 → Best Score: 0.000000 at [-2.9207615003429066e-08, -6.533047903950163e-07]\n",
            "Iteration 47/50 → Best Score: 0.000000 at [2.9768965481997202e-08, -3.9754033058059066e-07]\n",
            "Iteration 48/50 → Best Score: 0.000000 at [2.9768965481997202e-08, -3.9754033058059066e-07]\n",
            "Iteration 49/50 → Best Score: 0.000000 at [2.7101775849174823e-07, -1.4594467759391994e-07]\n",
            "Iteration 50/50 → Best Score: 0.000000 at [-1.2859868482647547e-07, 1.3253282989408232e-07]\n",
            "\n",
            "✅ Optimization Complete:\n",
            "→ Best Position Found: [-1.2859868482647547e-07, 1.3253282989408232e-07]\n",
            "→ Minimum Value: 0.000000\n"
          ]
        }
      ],
      "source": [
        "import random\n",
        "\n",
        "# --- Objective Function (De Jong Sphere Function) ---\n",
        "def evaluate(position):\n",
        "    x, y = position\n",
        "    return x**2 + y**2   # We aim to minimize this\n",
        "\n",
        "# --- Hyperparameters ---\n",
        "NUM_PARTICLES = 10\n",
        "ITERATIONS = 50\n",
        "INERTIA = 0.3       # Weight for previous velocity\n",
        "COG_COEFF = 2.0     # Personal learning rate\n",
        "SOC_COEFF = 2.0     # Social learning rate\n",
        "\n",
        "# --- Particle Initialization ---\n",
        "positions = [[random.uniform(-10, 10), random.uniform(-10, 10)] for _ in range(NUM_PARTICLES)]\n",
        "vels = [[0.0, 0.0] for _ in range(NUM_PARTICLES)]\n",
        "\n",
        "# --- Personal and Global Bests ---\n",
        "personal_best_positions = [pos[:] for pos in positions]\n",
        "personal_best_scores = [evaluate(pos) for pos in positions]\n",
        "\n",
        "best_particle_idx = personal_best_scores.index(min(personal_best_scores))\n",
        "global_best_position = personal_best_positions[best_particle_idx][:]\n",
        "global_best_score = personal_best_scores[best_particle_idx]\n",
        "\n",
        "# --- PSO Iterations ---\n",
        "for step in range(ITERATIONS):\n",
        "    for i in range(NUM_PARTICLES):\n",
        "        r1, r2 = random.random(), random.random()\n",
        "\n",
        "        # --- Velocity Update ---\n",
        "        for d in range(2):  # For each dimension\n",
        "            inertia_term = INERTIA * vels[i][d]\n",
        "            cognitive_term = COG_COEFF * r1 * (personal_best_positions[i][d] - positions[i][d])\n",
        "            social_term = SOC_COEFF * r2 * (global_best_position[d] - positions[i][d])\n",
        "            vels[i][d] = inertia_term + cognitive_term + social_term\n",
        "\n",
        "        # --- Position Update ---\n",
        "        positions[i][0] += vels[i][0]\n",
        "        positions[i][1] += vels[i][1]\n",
        "\n",
        "        # --- Evaluate New Fitness ---\n",
        "        score = evaluate(positions[i])\n",
        "\n",
        "        # --- Update Personal & Global Bests ---\n",
        "        if score < personal_best_scores[i]:\n",
        "            personal_best_scores[i] = score\n",
        "            personal_best_positions[i] = positions[i][:]\n",
        "\n",
        "            if score < global_best_score:\n",
        "                global_best_score = score\n",
        "                global_best_position = positions[i][:]\n",
        "\n",
        "    print(f\"Iteration {step + 1:02d}/{ITERATIONS} → Best Score: {global_best_score:.6f} at {global_best_position}\")\n",
        "\n",
        "# --- Results ---\n",
        "print(\"\\n✅ Optimization Complete:\")\n",
        "print(f\"→ Best Position Found: {global_best_position}\")\n",
        "print(f\"→ Minimum Value: {global_best_score:.6f}\")"
      ]
    }
  ]
}