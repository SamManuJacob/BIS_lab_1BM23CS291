{
  "nbformat": 4,
  "nbformat_minor": 0,
  "metadata": {
    "colab": {
      "provenance": [],
      "authorship_tag": "ABX9TyNVI4kk9wJZXK8CsxPYckSV",
      "include_colab_link": true
    },
    "kernelspec": {
      "name": "python3",
      "display_name": "Python 3"
    },
    "language_info": {
      "name": "python"
    }
  },
  "cells": [
    {
      "cell_type": "markdown",
      "metadata": {
        "id": "view-in-github",
        "colab_type": "text"
      },
      "source": [
        "<a href=\"https://colab.research.google.com/github/SamManuJacob/BIS_lab_1BM23CS291/blob/main/Lab_4.ipynb\" target=\"_parent\"><img src=\"https://colab.research.google.com/assets/colab-badge.svg\" alt=\"Open In Colab\"/></a>"
      ]
    },
    {
      "cell_type": "code",
      "execution_count": 1,
      "metadata": {
        "colab": {
          "base_uri": "https://localhost:8080/"
        },
        "id": "qzZn9N18j-Bz",
        "outputId": "17772ddd-eed4-4c38-f02d-69050ac4b803"
      },
      "outputs": [
        {
          "output_type": "stream",
          "name": "stdout",
          "text": [
            "Cuckoo Search Best Solution: [ 3.09160378e-07 -4.98318206e-07]\n",
            "Fitness: 3.439011738828179e-13\n"
          ]
        }
      ],
      "source": [
        "import numpy as np\n",
        "\n",
        "# Objective function\n",
        "def objective(x):\n",
        "    return np.sum(x**2)  # Example (Sphere); replace with your function\n",
        "\n",
        "# Levy flight\n",
        "def levy_flight(Lambda):\n",
        "    u = np.random.randn() * 0.01\n",
        "    v = np.random.randn()\n",
        "    step = u / (abs(v)**(1/Lambda))\n",
        "    return step\n",
        "\n",
        "def cuckoo_search(n=20, dim=2, lb=-10, ub=10, pa=0.25, max_iter=200):\n",
        "    nests = np.random.uniform(lb, ub, (n, dim))\n",
        "    fitness = np.array([objective(x) for x in nests])\n",
        "\n",
        "    for _ in range(max_iter):\n",
        "        # Generate new cuckoo by levy flights\n",
        "        cuckoo = nests[np.random.randint(n)] + levy_flight(1.5) * np.random.randn(dim)\n",
        "        cuckoo = np.clip(cuckoo, lb, ub)\n",
        "        f_cuckoo = objective(cuckoo)\n",
        "\n",
        "        # Random nest to compare\n",
        "        j = np.random.randint(n)\n",
        "        if f_cuckoo < fitness[j]:\n",
        "            nests[j] = cuckoo\n",
        "            fitness[j] = f_cuckoo\n",
        "\n",
        "        # Abandon worst nests\n",
        "        abandon = np.random.rand(n, dim) < pa\n",
        "        steps = np.random.randn(n, dim) * (nests[np.random.permutation(n)] - nests)\n",
        "        new_nests = nests + abandon * steps\n",
        "        new_nests = np.clip(new_nests, lb, ub)\n",
        "\n",
        "        new_fitness = np.array([objective(x) for x in new_nests])\n",
        "\n",
        "        # Replace improved ones\n",
        "        for i in range(n):\n",
        "            if new_fitness[i] < fitness[i]:\n",
        "                nests[i] = new_nests[i]\n",
        "                fitness[i] = new_fitness[i]\n",
        "\n",
        "    best_idx = np.argmin(fitness)\n",
        "    return nests[best_idx], fitness[best_idx]\n",
        "\n",
        "\n",
        "best_cs, fit_cs = cuckoo_search()\n",
        "print(\"Cuckoo Search Best Solution:\", best_cs)\n",
        "print(\"Fitness:\", fit_cs)\n"
      ]
    },
    {
      "cell_type": "code",
      "source": [
        "import numpy as np\n",
        "\n",
        "def objective(x):\n",
        "    return np.sum(x**2)  # Example (Sphere); replace with your function\n",
        "\n",
        "def gwo(n=20, dim=2, lb=-10, ub=10, max_iter=200):\n",
        "    wolves = np.random.uniform(lb, ub, (n, dim))\n",
        "    fitness = np.array([objective(w) for w in wolves])\n",
        "\n",
        "    alpha, beta, delta = np.zeros(dim), np.zeros(dim), np.zeros(dim)\n",
        "    alpha_score, beta_score, delta_score = np.inf, np.inf, np.inf\n",
        "\n",
        "    for _ in range(max_iter):\n",
        "        for i, wolf in enumerate(wolves):\n",
        "            score = fitness[i]\n",
        "\n",
        "            if score < alpha_score:\n",
        "                alpha_score, alpha = score, wolf.copy()\n",
        "            elif score < beta_score:\n",
        "                beta_score, beta = score, wolf.copy()\n",
        "            elif score < delta_score:\n",
        "                delta_score, delta = score, wolf.copy()\n",
        "\n",
        "        a = 2 - _ * (2/max_iter)\n",
        "\n",
        "        for i in range(n):\n",
        "            for leader, leader_pos in zip([alpha, beta, delta], [alpha, beta, delta]):\n",
        "                r1, r2 = np.random.rand(), np.random.rand()\n",
        "                A = 2*a*r1 - a\n",
        "                C = 2*r2\n",
        "                D = abs(C*leader_pos - wolves[i])\n",
        "                X = leader_pos - A*D\n",
        "\n",
        "                if leader is alpha:\n",
        "                    X1 = X\n",
        "                elif leader is beta:\n",
        "                    X2 = X\n",
        "                else:\n",
        "                    X3 = X\n",
        "\n",
        "            wolves[i] = (X1 + X2 + X3)/3\n",
        "\n",
        "        wolves = np.clip(wolves, lb, ub)\n",
        "        fitness = np.array([objective(w) for w in wolves])\n",
        "\n",
        "    return alpha, alpha_score\n",
        "\n",
        "\n",
        "best_gwo, fit_gwo = gwo()\n",
        "print(\"Grey Wolf Best Solution:\", best_gwo)\n",
        "print(\"Fitness:\", fit_gwo)\n"
      ],
      "metadata": {
        "id": "JLKSpRjHk_ur",
        "outputId": "cfa96b18-2a23-4b65-877c-667562cbe7a4",
        "colab": {
          "base_uri": "https://localhost:8080/"
        }
      },
      "execution_count": 2,
      "outputs": [
        {
          "output_type": "stream",
          "name": "stdout",
          "text": [
            "Grey Wolf Best Solution: [ 1.75193350e-19 -1.73965955e-19]\n",
            "Fitness: 6.095686323857123e-38\n"
          ]
        }
      ]
    }
  ]
}