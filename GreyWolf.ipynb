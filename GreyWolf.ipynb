{
  "nbformat": 4,
  "nbformat_minor": 0,
  "metadata": {
    "colab": {
      "provenance": [],
      "authorship_tag": "ABX9TyMAvIJE/i+03fGHZDYYLQhd",
      "include_colab_link": true
    },
    "kernelspec": {
      "name": "python3",
      "display_name": "Python 3"
    },
    "language_info": {
      "name": "python"
    }
  },
  "cells": [
    {
      "cell_type": "markdown",
      "metadata": {
        "id": "view-in-github",
        "colab_type": "text"
      },
      "source": [
        "<a href=\"https://colab.research.google.com/github/SamManuJacob/BIS_lab_1BM23CS291/blob/main/GreyWolf.ipynb\" target=\"_parent\"><img src=\"https://colab.research.google.com/assets/colab-badge.svg\" alt=\"Open In Colab\"/></a>"
      ]
    },
    {
      "cell_type": "code",
      "execution_count": 1,
      "metadata": {
        "colab": {
          "base_uri": "https://localhost:8080/"
        },
        "id": "jJzK0NpCkUMx",
        "outputId": "16e6a528-1989-406c-d99e-4665e75553e1"
      },
      "outputs": [
        {
          "output_type": "stream",
          "name": "stdout",
          "text": [
            "Grey Wolf Best Solution: [ 3.61243946e-16 -3.64194522e-16]\n",
            "Fitness: 2.631348386134964e-31\n"
          ]
        }
      ],
      "source": [
        "import numpy as np\n",
        "\n",
        "def objective(x):\n",
        "    return np.sum(x**2)  # Example (Sphere); replace with your function\n",
        "\n",
        "def gwo(n=20, dim=2, lb=-10, ub=10, max_iter=200):\n",
        "    wolves = np.random.uniform(lb, ub, (n, dim))\n",
        "    fitness = np.array([objective(w) for w in wolves])\n",
        "\n",
        "    alpha, beta, delta = np.zeros(dim), np.zeros(dim), np.zeros(dim)\n",
        "    alpha_score, beta_score, delta_score = np.inf, np.inf, np.inf\n",
        "\n",
        "    for _ in range(max_iter):\n",
        "        for i, wolf in enumerate(wolves):\n",
        "            score = fitness[i]\n",
        "\n",
        "            if score < alpha_score:\n",
        "                alpha_score, alpha = score, wolf.copy()\n",
        "            elif score < beta_score:\n",
        "                beta_score, beta = score, wolf.copy()\n",
        "            elif score < delta_score:\n",
        "                delta_score, delta = score, wolf.copy()\n",
        "\n",
        "        a = 2 - _ * (2/max_iter)\n",
        "\n",
        "        for i in range(n):\n",
        "            for leader, leader_pos in zip([alpha, beta, delta], [alpha, beta, delta]):\n",
        "                r1, r2 = np.random.rand(), np.random.rand()\n",
        "                A = 2*a*r1 - a\n",
        "                C = 2*r2\n",
        "                D = abs(C*leader_pos - wolves[i])\n",
        "                X = leader_pos - A*D\n",
        "\n",
        "                if leader is alpha:\n",
        "                    X1 = X\n",
        "                elif leader is beta:\n",
        "                    X2 = X\n",
        "                else:\n",
        "                    X3 = X\n",
        "\n",
        "            wolves[i] = (X1 + X2 + X3)/3\n",
        "\n",
        "        wolves = np.clip(wolves, lb, ub)\n",
        "        fitness = np.array([objective(w) for w in wolves])\n",
        "\n",
        "    return alpha, alpha_score\n",
        "\n",
        "\n",
        "best_gwo, fit_gwo = gwo()\n",
        "print(\"Grey Wolf Best Solution:\", best_gwo)\n",
        "print(\"Fitness:\", fit_gwo)\n"
      ]
    }
  ]
}